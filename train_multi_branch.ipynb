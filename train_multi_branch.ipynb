{
 "cells": [
  {
   "cell_type": "code",
   "execution_count": 11,
   "metadata": {},
   "outputs": [],
   "source": [
    "import pytorch_lightning as pl\n",
    "import pandas as pd\n",
    "import torch\n",
    "from torch.utils.data import DataLoader, Dataset, random_split\n",
    "import numpy as np\n",
    "\n",
    "# 定义一个自定义的 Dataset\n",
    "class MNISTDataset(Dataset):\n",
    "    def __init__(self, csv_file):\n",
    "        self.data = pd.read_csv(csv_file)\n",
    "\n",
    "    def __len__(self):\n",
    "        return len(self.data)\n",
    "\n",
    "    def __getitem__(self, idx):\n",
    "        label = self.data.iloc[idx, 0]\n",
    "        image = self.data.iloc[idx, 1:].values.astype(np.float32)\n",
    "        return torch.tensor(image), torch.tensor(label)\n",
    "\n",
    "# 定义一个 LightningDataModule\n",
    "class MNISTDataModule(pl.LightningDataModule):\n",
    "    def __init__(self, data_dir='', batch_size=64, num_workers=2):\n",
    "        super().__init__()\n",
    "        self.data_dir = data_dir\n",
    "        self.batch_size = batch_size\n",
    "        self.num_workers = num_workers\n",
    "\n",
    "    def setup(self, stage=None):\n",
    "        # 数据集的定义\n",
    "        dataset = MNISTDataset(csv_file=self.data_dir + 'train.csv')\n",
    "        \n",
    "        # 将数据集划分为训练集和验证集\n",
    "        train_size = int(0.8 * len(dataset))\n",
    "        val_size = len(dataset) - train_size\n",
    "        self.train_dataset, self.val_dataset = random_split(dataset, [train_size, val_size])\n",
    "\n",
    "    def train_dataloader(self):\n",
    "        return DataLoader(self.train_dataset, batch_size=self.batch_size, num_workers=self.num_workers, shuffle=True)\n",
    "\n",
    "    def val_dataloader(self):\n",
    "        return DataLoader(self.val_dataset, batch_size=self.batch_size, num_workers=self.num_workers)\n",
    "\n",
    "    def test_dataloader(self):\n",
    "        # 从 test.csv 文件加载测试数据\n",
    "        test_dataset = MNISTDataset(csv_file=self.data_dir + 'test.csv')\n",
    "        return DataLoader(test_dataset, batch_size=self.batch_size, num_workers=self.num_workers)\n"
   ]
  },
  {
   "cell_type": "code",
   "execution_count": 15,
   "metadata": {},
   "outputs": [],
   "source": [
    "import pytorch_lightning as pl\n",
    "import torch\n",
    "import torch.nn as nn\n",
    "import torch.nn.functional as F\n",
    "from torchmetrics import Accuracy\n",
    "import numpy as np\n",
    "\n",
    "class CombinedMNISTModel(pl.LightningModule):\n",
    "    def __init__(self):\n",
    "        super().__init__()\n",
    "        # 处理28x28图像的分支\n",
    "        # 处理28x28图像的分支\n",
    "        self.cnn_branch = nn.Sequential(\n",
    "            nn.Conv2d(1, 8, kernel_size=3, padding=1),  # 通道数减少到 8\n",
    "            nn.ReLU(),\n",
    "            nn.MaxPool2d(2),\n",
    "            nn.Conv2d(8, 16, kernel_size=3, padding=1),  # 通道数减少到 16\n",
    "            nn.ReLU(),\n",
    "            nn.MaxPool2d(2)\n",
    "        )\n",
    "        self.cnn_fc = nn.Linear(16 * 7 * 7, 32)  # 全连接层神经元减少到 32\n",
    "\n",
    "        # 处理一维序列的分支\n",
    "        self.seq_branch = nn.Sequential(\n",
    "            nn.Linear(28 * 28, 32),  # 减少全连接层的输出神经元数量\n",
    "            nn.ReLU(),\n",
    "            nn.Linear(32, 32)\n",
    "        )\n",
    "\n",
    "        # 结合后的全连接层\n",
    "        self.fc_combined = nn.Sequential(\n",
    "            nn.ReLU(),\n",
    "            nn.Linear(64, 16),  # 减少结合后全连接层的神经元数量\n",
    "            nn.ReLU(),\n",
    "            nn.Linear(16, 10)\n",
    "        )\n",
    "\n",
    "        # 定义准确率计算\n",
    "        self.train_accuracy = Accuracy(task='multiclass', num_classes=10)\n",
    "        self.val_accuracy = Accuracy(task='multiclass', num_classes=10)\n",
    "        self.test_accuracy = Accuracy(task='multiclass', num_classes=10)\n",
    "\n",
    "    def forward(self, x):\n",
    "        # 将输入拆分为图像和序列两个分支\n",
    "        x_img = x.view(-1, 1, 28, 28)  # 转换为图像形式 [batch_size, 1, 28, 28]\n",
    "        x_seq = x  # 保持原始一维序列 [batch_size, 784]\n",
    "\n",
    "        # 图像分支前向传播\n",
    "        x_img = self.cnn_branch(x_img)\n",
    "        x_img = x_img.view(x_img.size(0), -1)\n",
    "        x_img = self.cnn_fc(x_img)\n",
    "\n",
    "        # 序列分支前向传播\n",
    "        x_seq = self.seq_branch(x_seq)\n",
    "\n",
    "        # 结合两个分支的输出\n",
    "        x_combined = torch.cat((x_img, x_seq), dim=1)  # 在特征维度上连接 [batch_size, 256]\n",
    "\n",
    "        # 最后的全连接层\n",
    "        x_combined = self.fc_combined(x_combined)\n",
    "        return F.log_softmax(x_combined, dim=1)\n",
    "\n",
    "    def training_step(self, batch, batch_idx):\n",
    "        x, y = batch\n",
    "        logits = self(x)\n",
    "        loss = F.nll_loss(logits, y)\n",
    "        \n",
    "        # 计算准确率\n",
    "        preds = torch.argmax(logits, dim=1)\n",
    "        acc = self.train_accuracy(preds, y)\n",
    "        \n",
    "        # 记录 loss 和 acc 到进度条\n",
    "        self.log('train_loss', loss, on_step=True, on_epoch=True, prog_bar=True, logger=True)\n",
    "        self.log('train_acc', acc, on_step=True, on_epoch=True, prog_bar=True, logger=True)\n",
    "        \n",
    "        return loss\n",
    "\n",
    "    def validation_step(self, batch, batch_idx):\n",
    "        x, y = batch\n",
    "        logits = self(x)\n",
    "        loss = F.nll_loss(logits, y)\n",
    "        \n",
    "        # 计算准确率\n",
    "        preds = torch.argmax(logits, dim=1)\n",
    "        acc = self.val_accuracy(preds, y)\n",
    "        \n",
    "        # 记录 loss 和 acc 到进度条\n",
    "        self.log('val_loss', loss, on_step=False, on_epoch=True, prog_bar=True, logger=True)\n",
    "        self.log('val_acc', acc, on_step=False, on_epoch=True, prog_bar=True, logger=True)\n",
    "        \n",
    "        return loss\n",
    "\n",
    "    def test_step(self, batch, batch_idx):\n",
    "        x, y = batch\n",
    "        logits = self(x)\n",
    "        loss = F.nll_loss(logits, y)\n",
    "        \n",
    "        # 计算准确率\n",
    "        preds = torch.argmax(logits, dim=1)\n",
    "        acc = self.test_accuracy(preds, y)\n",
    "        \n",
    "        # 记录 loss 和 acc 到进度条\n",
    "        self.log('test_loss', loss, on_step=False, on_epoch=True, prog_bar=True, logger=True)\n",
    "        self.log('test_acc', acc, on_step=False, on_epoch=True, prog_bar=True, logger=True)\n",
    "        \n",
    "        return loss\n",
    "\n",
    "    def configure_optimizers(self):\n",
    "        return torch.optim.Adam(self.parameters(), lr=1e-3)  # 使用 Adam 优化器\n"
   ]
  },
  {
   "cell_type": "code",
   "execution_count": 16,
   "metadata": {},
   "outputs": [
    {
     "name": "stderr",
     "output_type": "stream",
     "text": [
      "GPU available: False, used: False\n",
      "TPU available: False, using: 0 TPU cores\n",
      "HPU available: False, using: 0 HPUs\n"
     ]
    }
   ],
   "source": [
    "# 初始化数据模块\n",
    "mnist_dm = MNISTDataModule(data_dir='', batch_size=64)\n",
    "\n",
    "# 使用 Trainer 进行训练、验证和测试\n",
    "trainer = pl.Trainer(max_epochs=10)\n"
   ]
  },
  {
   "cell_type": "code",
   "execution_count": 17,
   "metadata": {},
   "outputs": [
    {
     "name": "stderr",
     "output_type": "stream",
     "text": [
      "\n",
      "  | Name           | Type               | Params | Mode \n",
      "--------------------------------------------------------------\n",
      "0 | cnn_branch     | Sequential         | 1.2 K  | train\n",
      "1 | cnn_fc         | Linear             | 25.1 K | train\n",
      "2 | seq_branch     | Sequential         | 26.2 K | train\n",
      "3 | fc_combined    | Sequential         | 1.2 K  | train\n",
      "4 | train_accuracy | MulticlassAccuracy | 0      | train\n",
      "5 | val_accuracy   | MulticlassAccuracy | 0      | train\n",
      "6 | test_accuracy  | MulticlassAccuracy | 0      | train\n",
      "--------------------------------------------------------------\n",
      "53.8 K    Trainable params\n",
      "0         Non-trainable params\n",
      "53.8 K    Total params\n",
      "0.215     Total estimated model params size (MB)\n",
      "20        Modules in train mode\n",
      "0         Modules in eval mode\n"
     ]
    },
    {
     "name": "stdout",
     "output_type": "stream",
     "text": [
      "Epoch 9: 100%|██████████| 525/525 [00:18<00:00, 29.10it/s, v_num=14, train_loss_step=0.000793, train_acc_step=1.000, val_loss=0.0785, val_acc=0.982, train_loss_epoch=0.0247, train_acc_epoch=0.992]"
     ]
    },
    {
     "name": "stderr",
     "output_type": "stream",
     "text": [
      "`Trainer.fit` stopped: `max_epochs=10` reached.\n"
     ]
    },
    {
     "name": "stdout",
     "output_type": "stream",
     "text": [
      "Epoch 9: 100%|██████████| 525/525 [00:18<00:00, 29.08it/s, v_num=14, train_loss_step=0.000793, train_acc_step=1.000, val_loss=0.0785, val_acc=0.982, train_loss_epoch=0.0247, train_acc_epoch=0.992]\n"
     ]
    }
   ],
   "source": [
    "\n",
    "# 训练模型\n",
    "trainer.fit(CombinedMNISTModel(), mnist_dm)\n",
    "\n"
   ]
  },
  {
   "cell_type": "code",
   "execution_count": 10,
   "metadata": {},
   "outputs": [
    {
     "name": "stderr",
     "output_type": "stream",
     "text": [
      "/opt/mamba/lib/python3.10/site-packages/pytorch_lightning/trainer/connectors/checkpoint_connector.py:145: `.validate(ckpt_path=None)` was called without a model. The best model of the previous `fit` call will be used. You can pass `.validate(ckpt_path='best')` to use the best model or `.validate(ckpt_path='last')` to use the last model. If you pass a value, this warning will be silenced.\n",
      "Restoring states from the checkpoint path at /lightning_logs/version_10/checkpoints/epoch=9-step=5250.ckpt\n",
      "Loaded model weights from the checkpoint at /lightning_logs/version_10/checkpoints/epoch=9-step=5250.ckpt\n"
     ]
    },
    {
     "name": "stdout",
     "output_type": "stream",
     "text": [
      "Validation DataLoader 0: 100%|██████████| 132/132 [00:04<00:00, 30.04it/s]\n",
      "────────────────────────────────────────────────────────────────────────────────────────────────────────────────────────\n",
      "     Validate metric           DataLoader 0\n",
      "────────────────────────────────────────────────────────────────────────────────────────────────────────────────────────\n",
      "         val_acc            0.9923809766769409\n",
      "        val_loss            0.02614075317978859\n",
      "────────────────────────────────────────────────────────────────────────────────────────────────────────────────────────\n"
     ]
    },
    {
     "data": {
      "text/plain": [
       "[{'val_loss': 0.02614075317978859, 'val_acc': 0.9923809766769409}]"
      ]
     },
     "execution_count": 10,
     "metadata": {},
     "output_type": "execute_result"
    }
   ],
   "source": [
    "trainer.validate(datamodule=mnist_dm)"
   ]
  }
 ],
 "metadata": {
  "kernelspec": {
   "display_name": "base",
   "language": "python",
   "name": "python3"
  },
  "language_info": {
   "codemirror_mode": {
    "name": "ipython",
    "version": 3
   },
   "file_extension": ".py",
   "mimetype": "text/x-python",
   "name": "python",
   "nbconvert_exporter": "python",
   "pygments_lexer": "ipython3",
   "version": "3.10.6"
  }
 },
 "nbformat": 4,
 "nbformat_minor": 2
}
